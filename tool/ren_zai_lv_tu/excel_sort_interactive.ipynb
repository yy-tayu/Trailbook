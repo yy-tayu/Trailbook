{
  "cells": [
    {
      "cell_type": "code",
      "execution_count": 1,
      "metadata": {},
      "outputs": [],
      "source": [
        "import pandas as pd\n",
        "import ipywidgets as widgets\n",
        "from IPython.display import display, clear_output\n",
        "import os"
      ]
    },
    {
      "cell_type": "code",
      "execution_count": 4,
      "metadata": {},
      "outputs": [
        {
          "data": {
            "application/vnd.jupyter.widget-view+json": {
              "model_id": "5898efa349f54c56b2433b64d3ce6fee",
              "version_major": 2,
              "version_minor": 0
            },
            "text/plain": [
              "Text(value='', description='Excel 文件:', layout=Layout(width='50%'), placeholder='留空默认 default.xlsx')"
            ]
          },
          "metadata": {},
          "output_type": "display_data"
        },
        {
          "data": {
            "application/vnd.jupyter.widget-view+json": {
              "model_id": "ce4bad5a8c6a476ca065dab5ac00ea03",
              "version_major": 2,
              "version_minor": 0
            },
            "text/plain": [
              "Button(button_style='success', description='加载并排序', style=ButtonStyle())"
            ]
          },
          "metadata": {},
          "output_type": "display_data"
        },
        {
          "data": {
            "application/vnd.jupyter.widget-view+json": {
              "model_id": "2026451919cd473287bd6e0139be1135",
              "version_major": 2,
              "version_minor": 0
            },
            "text/plain": [
              "Output()"
            ]
          },
          "metadata": {},
          "output_type": "display_data"
        }
      ],
      "source": [
        "# 输入文件名输入框，默认 default.xls\n",
        "file_input = widgets.Text(\n",
        "    value='',\n",
        "    description='Excel 文件:',\n",
        "    placeholder='留空默认 default.xlsx',\n",
        "    layout=widgets.Layout(width='50%')\n",
        ")\n",
        "\n",
        "load_button = widgets.Button(description=\"加载并排序\", button_style='success')\n",
        "output = widgets.Output()\n",
        "\n",
        "display(file_input, load_button, output)"
      ]
    },
    {
      "cell_type": "code",
      "execution_count": null,
      "metadata": {},
      "outputs": [],
      "source": [
        "# 点击按钮后处理逻辑\n",
        "def load_and_sort_file(b):\n",
        "    with output:\n",
        "        clear_output()\n",
        "        \n",
        "        filename = file_input.value.strip()\n",
        "        if not filename:\n",
        "            filename = 'default.xlsx'\n",
        "        \n",
        "        if not os.path.exists(filename):\n",
        "            print(f\"❌ 文件不存在：{filename}，请重新输入。\")\n",
        "            return\n",
        "        \n",
        "        print(f\"📥 读取文件：{filename}\")\n",
        "        try:\n",
        "            df = pd.read_excel(filename, engine='openpyxl')\n",
        "\n",
        "            # 提取时间部分\n",
        "            df['上车时间'] = df['上车地点'].str.extract(r'(\\d{2}:\\d{2})')\n",
        "            df['上车时间'] = pd.to_datetime(df['上车时间'], format='%H:%M')\n",
        "\n",
        "            df['座位号'] = pd.to_numeric(df['座位号'], errors='coerce')\n",
        "\n",
        "            df_sorted = df.sort_values(by=['上车时间', '座位号'], ascending=[True, True])\n",
        "            df_sorted = df_sorted.drop(columns=['上车时间'])\n",
        "\n",
        "            # 输出文件名：原文件名 + '-领队点名版.xlsx'\n",
        "            base_name = os.path.splitext(filename)[0]\n",
        "            output_file = f\"{base_name}-领队点名版.xlsx\"\n",
        "            \n",
        "            df_sorted.to_excel(output_file, index=False)\n",
        "            print(f\"✅ 排序成功，输出文件：{output_file}\")\n",
        "        except Exception as e:\n",
        "            print(\"❌ 处理出错：\", e)\n",
        "\n",
        "load_button.on_click(load_and_sort_file)"
      ]
    }
  ],
  "metadata": {
    "kernelspec": {
      "display_name": "Python 3",
      "language": "python",
      "name": "python3"
    },
    "language_info": {
      "codemirror_mode": {
        "name": "ipython",
        "version": 3
      },
      "file_extension": ".py",
      "mimetype": "text/x-python",
      "name": "python",
      "nbconvert_exporter": "python",
      "pygments_lexer": "ipython3",
      "version": "3.12.2"
    }
  },
  "nbformat": 4,
  "nbformat_minor": 2
}
